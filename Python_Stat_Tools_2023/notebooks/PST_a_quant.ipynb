{
 "cells": [
  {
   "cell_type": "markdown",
   "metadata": {},
   "source": [
    "I want to get the data from a shared googlesheet into a pandas dataframe"
   ]
  },
  {
   "cell_type": "code",
   "execution_count": 8,
   "metadata": {},
   "outputs": [],
   "source": [
    "import pandas as pd\n",
    "\n",
    "gs_URL = 'https://docs.google.com/spreadsheets/d/1tuQPjJbLV9e2F1abxs2HVJsZO0xaitc9KtcKJD1acXQ/edit#gid=182521220'\n",
    "googleSheetId = gs_URL.split(\"spreadsheets/d/\")[1].split(\"/edit\")[0]\n",
    "worksheetName = \"Bivariate\"\n",
    "URL = f'https://docs.google.com/spreadsheets/d/{googleSheetId}/gviz/tq?tqx=out:csv&sheet={worksheetName}'\n",
    "df = pd.read_csv(URL)\n",
    "df = df.dropna(axis=1, how=\"all\") "
   ]
  }
 ],
 "metadata": {
  "kernelspec": {
   "display_name": "Python 3",
   "language": "python",
   "name": "python3"
  },
  "language_info": {
   "codemirror_mode": {
    "name": "ipython",
    "version": 3
   },
   "file_extension": ".py",
   "mimetype": "text/x-python",
   "name": "python",
   "nbconvert_exporter": "python",
   "pygments_lexer": "ipython3",
   "version": "3.12.0"
  }
 },
 "nbformat": 4,
 "nbformat_minor": 2
}
